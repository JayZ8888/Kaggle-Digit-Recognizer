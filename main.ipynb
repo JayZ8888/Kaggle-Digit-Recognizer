{
 "cells": [
  {
   "cell_type": "markdown",
   "metadata": {},
   "source": [
    "# Kaggle -- Digit Recognizer \n",
    "## 1. 导入相应包(Import Packages)"
   ]
  },
  {
   "cell_type": "code",
   "execution_count": 40,
   "metadata": {},
   "outputs": [],
   "source": [
    "import pandas as pd\n",
    "import numpy as np\n",
    "import matplotlib.pyplot as plt\n",
    "import seaborn as sns\n",
    "from sklearn.model_selection import train_test_split  \n",
    "from sklearn.metrics import confusion_matrix\n",
    "import tensorflow as tf\n",
    "from tensorflow import keras\n",
    "from keras.models import Sequential\n",
    "from keras.layers import Conv2D, MaxPooling2D\n",
    "from keras.layers import Dense, Flatten\n",
    "from keras.layers import Dropout\n",
    "from keras.callbacks import ReduceLROnPlateau\n",
    "from tensorflow.keras.optimizers import RMSprop\n",
    "from keras.preprocessing.image import ImageDataGenerator\n",
    "from tensorflow.keras.utils import to_categorical \n",
    "import itertools\n",
    "import zipfile  \n",
    "np.random.seed(6)"
   ]
  },
  {
   "cell_type": "markdown",
   "metadata": {},
   "source": [
    "## 2. 加载数据(Input Data)"
   ]
  },
  {
   "cell_type": "code",
   "execution_count": 41,
   "metadata": {},
   "outputs": [],
   "source": [
    "def unzip_file(zip_filepath, dest_path):  \n",
    "    with zipfile.ZipFile(zip_filepath, 'r') as zip_ref:  \n",
    "        zip_ref.extractall(dest_path)  "
   ]
  },
  {
   "cell_type": "code",
   "execution_count": 42,
   "metadata": {},
   "outputs": [],
   "source": [
    "unzip_file(\"./data/train.csv.zip\", \"./data/train.csv\")\n",
    "unzip_file(\"./data/test.csv.zip\", \"./data/test.csv\")"
   ]
  },
  {
   "cell_type": "code",
   "execution_count": 43,
   "metadata": {},
   "outputs": [],
   "source": [
    "train = pd.read_csv(\"./data/train.csv/train.csv\")\n",
    "test = pd.read_csv(\"./data/test.csv/test.csv\")"
   ]
  },
  {
   "cell_type": "code",
   "execution_count": 44,
   "metadata": {},
   "outputs": [
    {
     "name": "stdout",
     "output_type": "stream",
     "text": [
      "Size of training set: (42000, 785)\n",
      "Size of testing set: (28000, 784)\n"
     ]
    }
   ],
   "source": [
    "print(\"Size of training set:\", train.shape)\n",
    "print(\"Size of testing set:\", test.shape)"
   ]
  },
  {
   "cell_type": "code",
   "execution_count": 45,
   "metadata": {},
   "outputs": [
    {
     "data": {
      "text/html": [
       "<div>\n",
       "<style scoped>\n",
       "    .dataframe tbody tr th:only-of-type {\n",
       "        vertical-align: middle;\n",
       "    }\n",
       "\n",
       "    .dataframe tbody tr th {\n",
       "        vertical-align: top;\n",
       "    }\n",
       "\n",
       "    .dataframe thead th {\n",
       "        text-align: right;\n",
       "    }\n",
       "</style>\n",
       "<table border=\"1\" class=\"dataframe\">\n",
       "  <thead>\n",
       "    <tr style=\"text-align: right;\">\n",
       "      <th></th>\n",
       "      <th>label</th>\n",
       "      <th>pixel0</th>\n",
       "      <th>pixel1</th>\n",
       "      <th>pixel2</th>\n",
       "      <th>pixel3</th>\n",
       "      <th>pixel4</th>\n",
       "      <th>pixel5</th>\n",
       "      <th>pixel6</th>\n",
       "      <th>pixel7</th>\n",
       "      <th>pixel8</th>\n",
       "      <th>...</th>\n",
       "      <th>pixel774</th>\n",
       "      <th>pixel775</th>\n",
       "      <th>pixel776</th>\n",
       "      <th>pixel777</th>\n",
       "      <th>pixel778</th>\n",
       "      <th>pixel779</th>\n",
       "      <th>pixel780</th>\n",
       "      <th>pixel781</th>\n",
       "      <th>pixel782</th>\n",
       "      <th>pixel783</th>\n",
       "    </tr>\n",
       "  </thead>\n",
       "  <tbody>\n",
       "    <tr>\n",
       "      <th>0</th>\n",
       "      <td>1</td>\n",
       "      <td>0</td>\n",
       "      <td>0</td>\n",
       "      <td>0</td>\n",
       "      <td>0</td>\n",
       "      <td>0</td>\n",
       "      <td>0</td>\n",
       "      <td>0</td>\n",
       "      <td>0</td>\n",
       "      <td>0</td>\n",
       "      <td>...</td>\n",
       "      <td>0</td>\n",
       "      <td>0</td>\n",
       "      <td>0</td>\n",
       "      <td>0</td>\n",
       "      <td>0</td>\n",
       "      <td>0</td>\n",
       "      <td>0</td>\n",
       "      <td>0</td>\n",
       "      <td>0</td>\n",
       "      <td>0</td>\n",
       "    </tr>\n",
       "    <tr>\n",
       "      <th>1</th>\n",
       "      <td>0</td>\n",
       "      <td>0</td>\n",
       "      <td>0</td>\n",
       "      <td>0</td>\n",
       "      <td>0</td>\n",
       "      <td>0</td>\n",
       "      <td>0</td>\n",
       "      <td>0</td>\n",
       "      <td>0</td>\n",
       "      <td>0</td>\n",
       "      <td>...</td>\n",
       "      <td>0</td>\n",
       "      <td>0</td>\n",
       "      <td>0</td>\n",
       "      <td>0</td>\n",
       "      <td>0</td>\n",
       "      <td>0</td>\n",
       "      <td>0</td>\n",
       "      <td>0</td>\n",
       "      <td>0</td>\n",
       "      <td>0</td>\n",
       "    </tr>\n",
       "    <tr>\n",
       "      <th>2</th>\n",
       "      <td>1</td>\n",
       "      <td>0</td>\n",
       "      <td>0</td>\n",
       "      <td>0</td>\n",
       "      <td>0</td>\n",
       "      <td>0</td>\n",
       "      <td>0</td>\n",
       "      <td>0</td>\n",
       "      <td>0</td>\n",
       "      <td>0</td>\n",
       "      <td>...</td>\n",
       "      <td>0</td>\n",
       "      <td>0</td>\n",
       "      <td>0</td>\n",
       "      <td>0</td>\n",
       "      <td>0</td>\n",
       "      <td>0</td>\n",
       "      <td>0</td>\n",
       "      <td>0</td>\n",
       "      <td>0</td>\n",
       "      <td>0</td>\n",
       "    </tr>\n",
       "    <tr>\n",
       "      <th>3</th>\n",
       "      <td>4</td>\n",
       "      <td>0</td>\n",
       "      <td>0</td>\n",
       "      <td>0</td>\n",
       "      <td>0</td>\n",
       "      <td>0</td>\n",
       "      <td>0</td>\n",
       "      <td>0</td>\n",
       "      <td>0</td>\n",
       "      <td>0</td>\n",
       "      <td>...</td>\n",
       "      <td>0</td>\n",
       "      <td>0</td>\n",
       "      <td>0</td>\n",
       "      <td>0</td>\n",
       "      <td>0</td>\n",
       "      <td>0</td>\n",
       "      <td>0</td>\n",
       "      <td>0</td>\n",
       "      <td>0</td>\n",
       "      <td>0</td>\n",
       "    </tr>\n",
       "    <tr>\n",
       "      <th>4</th>\n",
       "      <td>0</td>\n",
       "      <td>0</td>\n",
       "      <td>0</td>\n",
       "      <td>0</td>\n",
       "      <td>0</td>\n",
       "      <td>0</td>\n",
       "      <td>0</td>\n",
       "      <td>0</td>\n",
       "      <td>0</td>\n",
       "      <td>0</td>\n",
       "      <td>...</td>\n",
       "      <td>0</td>\n",
       "      <td>0</td>\n",
       "      <td>0</td>\n",
       "      <td>0</td>\n",
       "      <td>0</td>\n",
       "      <td>0</td>\n",
       "      <td>0</td>\n",
       "      <td>0</td>\n",
       "      <td>0</td>\n",
       "      <td>0</td>\n",
       "    </tr>\n",
       "    <tr>\n",
       "      <th>5</th>\n",
       "      <td>0</td>\n",
       "      <td>0</td>\n",
       "      <td>0</td>\n",
       "      <td>0</td>\n",
       "      <td>0</td>\n",
       "      <td>0</td>\n",
       "      <td>0</td>\n",
       "      <td>0</td>\n",
       "      <td>0</td>\n",
       "      <td>0</td>\n",
       "      <td>...</td>\n",
       "      <td>0</td>\n",
       "      <td>0</td>\n",
       "      <td>0</td>\n",
       "      <td>0</td>\n",
       "      <td>0</td>\n",
       "      <td>0</td>\n",
       "      <td>0</td>\n",
       "      <td>0</td>\n",
       "      <td>0</td>\n",
       "      <td>0</td>\n",
       "    </tr>\n",
       "    <tr>\n",
       "      <th>6</th>\n",
       "      <td>7</td>\n",
       "      <td>0</td>\n",
       "      <td>0</td>\n",
       "      <td>0</td>\n",
       "      <td>0</td>\n",
       "      <td>0</td>\n",
       "      <td>0</td>\n",
       "      <td>0</td>\n",
       "      <td>0</td>\n",
       "      <td>0</td>\n",
       "      <td>...</td>\n",
       "      <td>0</td>\n",
       "      <td>0</td>\n",
       "      <td>0</td>\n",
       "      <td>0</td>\n",
       "      <td>0</td>\n",
       "      <td>0</td>\n",
       "      <td>0</td>\n",
       "      <td>0</td>\n",
       "      <td>0</td>\n",
       "      <td>0</td>\n",
       "    </tr>\n",
       "    <tr>\n",
       "      <th>7</th>\n",
       "      <td>3</td>\n",
       "      <td>0</td>\n",
       "      <td>0</td>\n",
       "      <td>0</td>\n",
       "      <td>0</td>\n",
       "      <td>0</td>\n",
       "      <td>0</td>\n",
       "      <td>0</td>\n",
       "      <td>0</td>\n",
       "      <td>0</td>\n",
       "      <td>...</td>\n",
       "      <td>0</td>\n",
       "      <td>0</td>\n",
       "      <td>0</td>\n",
       "      <td>0</td>\n",
       "      <td>0</td>\n",
       "      <td>0</td>\n",
       "      <td>0</td>\n",
       "      <td>0</td>\n",
       "      <td>0</td>\n",
       "      <td>0</td>\n",
       "    </tr>\n",
       "    <tr>\n",
       "      <th>8</th>\n",
       "      <td>5</td>\n",
       "      <td>0</td>\n",
       "      <td>0</td>\n",
       "      <td>0</td>\n",
       "      <td>0</td>\n",
       "      <td>0</td>\n",
       "      <td>0</td>\n",
       "      <td>0</td>\n",
       "      <td>0</td>\n",
       "      <td>0</td>\n",
       "      <td>...</td>\n",
       "      <td>0</td>\n",
       "      <td>0</td>\n",
       "      <td>0</td>\n",
       "      <td>0</td>\n",
       "      <td>0</td>\n",
       "      <td>0</td>\n",
       "      <td>0</td>\n",
       "      <td>0</td>\n",
       "      <td>0</td>\n",
       "      <td>0</td>\n",
       "    </tr>\n",
       "    <tr>\n",
       "      <th>9</th>\n",
       "      <td>3</td>\n",
       "      <td>0</td>\n",
       "      <td>0</td>\n",
       "      <td>0</td>\n",
       "      <td>0</td>\n",
       "      <td>0</td>\n",
       "      <td>0</td>\n",
       "      <td>0</td>\n",
       "      <td>0</td>\n",
       "      <td>0</td>\n",
       "      <td>...</td>\n",
       "      <td>0</td>\n",
       "      <td>0</td>\n",
       "      <td>0</td>\n",
       "      <td>0</td>\n",
       "      <td>0</td>\n",
       "      <td>0</td>\n",
       "      <td>0</td>\n",
       "      <td>0</td>\n",
       "      <td>0</td>\n",
       "      <td>0</td>\n",
       "    </tr>\n",
       "  </tbody>\n",
       "</table>\n",
       "<p>10 rows × 785 columns</p>\n",
       "</div>"
      ],
      "text/plain": [
       "   label  pixel0  pixel1  pixel2  pixel3  pixel4  pixel5  pixel6  pixel7  \\\n",
       "0      1       0       0       0       0       0       0       0       0   \n",
       "1      0       0       0       0       0       0       0       0       0   \n",
       "2      1       0       0       0       0       0       0       0       0   \n",
       "3      4       0       0       0       0       0       0       0       0   \n",
       "4      0       0       0       0       0       0       0       0       0   \n",
       "5      0       0       0       0       0       0       0       0       0   \n",
       "6      7       0       0       0       0       0       0       0       0   \n",
       "7      3       0       0       0       0       0       0       0       0   \n",
       "8      5       0       0       0       0       0       0       0       0   \n",
       "9      3       0       0       0       0       0       0       0       0   \n",
       "\n",
       "   pixel8  ...  pixel774  pixel775  pixel776  pixel777  pixel778  pixel779  \\\n",
       "0       0  ...         0         0         0         0         0         0   \n",
       "1       0  ...         0         0         0         0         0         0   \n",
       "2       0  ...         0         0         0         0         0         0   \n",
       "3       0  ...         0         0         0         0         0         0   \n",
       "4       0  ...         0         0         0         0         0         0   \n",
       "5       0  ...         0         0         0         0         0         0   \n",
       "6       0  ...         0         0         0         0         0         0   \n",
       "7       0  ...         0         0         0         0         0         0   \n",
       "8       0  ...         0         0         0         0         0         0   \n",
       "9       0  ...         0         0         0         0         0         0   \n",
       "\n",
       "   pixel780  pixel781  pixel782  pixel783  \n",
       "0         0         0         0         0  \n",
       "1         0         0         0         0  \n",
       "2         0         0         0         0  \n",
       "3         0         0         0         0  \n",
       "4         0         0         0         0  \n",
       "5         0         0         0         0  \n",
       "6         0         0         0         0  \n",
       "7         0         0         0         0  \n",
       "8         0         0         0         0  \n",
       "9         0         0         0         0  \n",
       "\n",
       "[10 rows x 785 columns]"
      ]
     },
     "execution_count": 45,
     "metadata": {},
     "output_type": "execute_result"
    }
   ],
   "source": [
    "train.head(10)"
   ]
  },
  {
   "cell_type": "code",
   "execution_count": 5,
   "metadata": {},
   "outputs": [
    {
     "name": "stderr",
     "output_type": "stream",
     "text": [
      "c:\\ProgramData\\Anaconda3\\lib\\site-packages\\seaborn\\_decorators.py:36: FutureWarning: Pass the following variable as a keyword arg: x. From version 0.12, the only valid positional argument will be `data`, and passing other arguments without an explicit keyword will result in an error or misinterpretation.\n",
      "  warnings.warn(\n"
     ]
    },
    {
     "data": {
      "image/png": "[encoded data removed]",
      "text/plain": [
       "<Figure size 432x288 with 1 Axes>"
      ]
     },
     "metadata": {
      "needs_background": "light"
     },
     "output_type": "display_data"
    }
   ],
   "source": [
    "Y_train = train['label']\n",
    "X_train = train.drop(labels='label', axis=1)\n",
    "graph1 = sns.countplot(Y_train)"
   ]
  },
  {
   "cell_type": "markdown",
   "metadata": {},
   "source": [
    "## 3. 数据预处理(Data Preprocessing)"
   ]
  },
  {
   "cell_type": "markdown",
   "metadata": {},
   "source": [
    "### 3.1 缺失值处理(Null Check)"
   ]
  },
  {
   "cell_type": "code",
   "execution_count": 6,
   "metadata": {},
   "outputs": [
    {
     "data": {
      "text/plain": [
       "count       784\n",
       "unique        1\n",
       "top       False\n",
       "freq        784\n",
       "dtype: object"
      ]
     },
     "execution_count": 6,
     "metadata": {},
     "output_type": "execute_result"
    }
   ],
   "source": [
    "#检查是否有缺失值(Check if there is any null)\n",
    "X_train.isnull().any().describe()"
   ]
  },
  {
   "cell_type": "code",
   "execution_count": 7,
   "metadata": {},
   "outputs": [
    {
     "data": {
      "text/plain": [
       "count       784\n",
       "unique        1\n",
       "top       False\n",
       "freq        784\n",
       "dtype: object"
      ]
     },
     "execution_count": 7,
     "metadata": {},
     "output_type": "execute_result"
    }
   ],
   "source": [
    "test.isnull().any().describe()"
   ]
  },
  {
   "cell_type": "markdown",
   "metadata": {},
   "source": [
    "There are no nulls in both the training and test sets."
   ]
  },
  {
   "cell_type": "markdown",
   "metadata": {},
   "source": [
    "### 3.2 归一化处理(Normalization)"
   ]
  },
  {
   "cell_type": "code",
   "execution_count": 8,
   "metadata": {},
   "outputs": [],
   "source": [
    "X_train = X_train / 255\n",
    "test = test / 255"
   ]
  },
  {
   "cell_type": "markdown",
   "metadata": {},
   "source": [
    "### 3.3 重塑图像(Reshape Images)"
   ]
  },
  {
   "cell_type": "code",
   "execution_count": 9,
   "metadata": {},
   "outputs": [],
   "source": [
    "X_train = X_train.values.reshape(-1,28,28,1)\n",
    "test = test.values.reshape(-1,28,28,1)"
   ]
  },
  {
   "cell_type": "markdown",
   "metadata": {},
   "source": [
    "### 3.4 标签独热编码(One-hot transform for labels)"
   ]
  },
  {
   "cell_type": "code",
   "execution_count": 10,
   "metadata": {},
   "outputs": [
    {
     "data": {
      "text/plain": [
       "array([[0., 1., 0., ..., 0., 0., 0.],\n",
       "       [1., 0., 0., ..., 0., 0., 0.],\n",
       "       [0., 1., 0., ..., 0., 0., 0.],\n",
       "       ...,\n",
       "       [0., 0., 0., ..., 1., 0., 0.],\n",
       "       [0., 0., 0., ..., 0., 0., 0.],\n",
       "       [0., 0., 0., ..., 0., 0., 1.]], dtype=float32)"
      ]
     },
     "execution_count": 10,
     "metadata": {},
     "output_type": "execute_result"
    }
   ],
   "source": [
    "Y_train = to_categorical(Y_train, num_classes=10)\n",
    "Y_train"
   ]
  },
  {
   "cell_type": "markdown",
   "metadata": {},
   "source": [
    "### 3.5 划分训练集和验证集(Divide training set and validation set)"
   ]
  },
  {
   "cell_type": "code",
   "execution_count": 11,
   "metadata": {},
   "outputs": [],
   "source": [
    "X_train, X_vali, Y_train, Y_vali = train_test_split(X_train,Y_train,test_size=0.1,random_state=6) "
   ]
  },
  {
   "cell_type": "code",
   "execution_count": 12,
   "metadata": {},
   "outputs": [
    {
     "data": {
      "image/png": "[encoded data removed]",
      "text/plain": [
       "<Figure size 432x288 with 1 Axes>"
      ]
     },
     "metadata": {
      "needs_background": "light"
     },
     "output_type": "display_data"
    }
   ],
   "source": [
    "#visualized images\n",
    "img_example = X_train[1][:, :, 0]  \n",
    "plt.imshow(img_example, cmap='gray')   \n",
    "plt.axis('off')  \n",
    "plt.show()  "
   ]
  },
  {
   "cell_type": "markdown",
   "metadata": {},
   "source": [
    "## 4. 卷积神经网络(CNN)"
   ]
  },
  {
   "cell_type": "code",
   "execution_count": 13,
   "metadata": {},
   "outputs": [],
   "source": [
    "#CNN\n",
    "model = Sequential() \n",
    "\n",
    "model.add(Conv2D(filters = 32, kernel_size = (5,5), padding = 'Same', activation = 'relu', input_shape = (28,28,1)))\n",
    "model.add(MaxPooling2D(pool_size=(2,2),strides=(2,2)))  \n",
    "model.add(Dropout(0.3))\n",
    "\n",
    "model.add(Conv2D(filters = 64, kernel_size = (5,5), padding = 'Same', activation = 'relu'))\n",
    "model.add(MaxPooling2D(pool_size=(2,2),strides=(2,2)))  \n",
    "model.add(Dropout(0.3))\n",
    "\n",
    "model.add(Flatten())\n",
    "model.add(Dense(1000, activation='relu'))\n",
    "model.add(Dropout(0.3))\n",
    "model.add(Dense(10, activation='softmax'))\n"
   ]
  },
  {
   "cell_type": "markdown",
   "metadata": {},
   "source": [
    "## 5. 设置优化器和回调函数(Optimizers and Callbacks)"
   ]
  },
  {
   "cell_type": "code",
   "execution_count": 14,
   "metadata": {},
   "outputs": [
    {
     "name": "stderr",
     "output_type": "stream",
     "text": [
      "c:\\ProgramData\\Anaconda3\\lib\\site-packages\\keras\\optimizer_v2\\optimizer_v2.py:355: UserWarning: The `lr` argument is deprecated, use `learning_rate` instead.\n",
      "  warnings.warn(\n"
     ]
    }
   ],
   "source": [
    "optimizer = RMSprop(lr=0.001, rho=0.9, epsilon=1e-08, decay=0.0)\n",
    "model.compile(optimizer=optimizer, loss='categorical_crossentropy', metrics=['accuracy'])"
   ]
  },
  {
   "cell_type": "code",
   "execution_count": 15,
   "metadata": {},
   "outputs": [],
   "source": [
    "LR_reduction = ReduceLROnPlateau(monitor='val_accuracy', factor=0.5, patience=3, verbose=1, min_lr=0.00001)"
   ]
  },
  {
   "cell_type": "markdown",
   "metadata": {},
   "source": [
    "## 6. 数据增强(Data Augmentation)"
   ]
  },
  {
   "cell_type": "code",
   "execution_count": 16,
   "metadata": {},
   "outputs": [],
   "source": [
    "DataGen = ImageDataGenerator(featurewise_center=False,\n",
    "                             samplewise_center=False,\n",
    "                             featurewise_std_normalization=False,\n",
    "                             samplewise_std_normalization=False,\n",
    "                             zca_whitening=False,\n",
    "                             rotation_range=20,\n",
    "                             height_shift_range=0.1,\n",
    "                             width_shift_range=0.1,\n",
    "                             zoom_range=0.1,\n",
    "                             horizontal_flip=False,\n",
    "                             vertical_flip=False)\n",
    "\n",
    "DataGen.fit(X_train)"
   ]
  },
  {
   "cell_type": "markdown",
   "metadata": {},
   "source": [
    "## 7. 模型拟合(Model Fitting)"
   ]
  },
  {
   "cell_type": "code",
   "execution_count": 17,
   "metadata": {},
   "outputs": [
    {
     "name": "stderr",
     "output_type": "stream",
     "text": [
      "c:\\ProgramData\\Anaconda3\\lib\\site-packages\\keras\\engine\\training.py:1972: UserWarning: `Model.fit_generator` is deprecated and will be removed in a future version. Please use `Model.fit`, which supports generators.\n",
      "  warnings.warn('`Model.fit_generator` is deprecated and '\n"
     ]
    },
    {
     "name": "stdout",
     "output_type": "stream",
     "text": [
      "Epoch 1/30\n",
      "439/439 - 13s - loss: 0.3864 - accuracy: 0.8741 - val_loss: 0.0544 - val_accuracy: 0.9833\n",
      "Epoch 2/30\n",
      "439/439 - 7s - loss: 0.1308 - accuracy: 0.9591 - val_loss: 0.0362 - val_accuracy: 0.9883\n",
      "Epoch 3/30\n",
      "439/439 - 7s - loss: 0.1021 - accuracy: 0.9686 - val_loss: 0.0322 - val_accuracy: 0.9902\n",
      "Epoch 4/30\n",
      "439/439 - 7s - loss: 0.0877 - accuracy: 0.9737 - val_loss: 0.0389 - val_accuracy: 0.9874\n",
      "Epoch 5/30\n",
      "439/439 - 7s - loss: 0.0794 - accuracy: 0.9765 - val_loss: 0.0349 - val_accuracy: 0.9883\n",
      "Epoch 6/30\n",
      "439/439 - 8s - loss: 0.0752 - accuracy: 0.9771 - val_loss: 0.0220 - val_accuracy: 0.9926\n",
      "Epoch 7/30\n",
      "439/439 - 8s - loss: 0.0727 - accuracy: 0.9787 - val_loss: 0.0283 - val_accuracy: 0.9919\n",
      "Epoch 8/30\n",
      "439/439 - 8s - loss: 0.0699 - accuracy: 0.9783 - val_loss: 0.0288 - val_accuracy: 0.9914\n",
      "Epoch 9/30\n",
      "439/439 - 8s - loss: 0.0674 - accuracy: 0.9804 - val_loss: 0.0270 - val_accuracy: 0.9917\n",
      "\n",
      "Epoch 00009: ReduceLROnPlateau reducing learning rate to 0.0005000000237487257.\n",
      "Epoch 10/30\n",
      "439/439 - 8s - loss: 0.0587 - accuracy: 0.9827 - val_loss: 0.0229 - val_accuracy: 0.9929\n",
      "Epoch 11/30\n",
      "439/439 - 9s - loss: 0.0557 - accuracy: 0.9833 - val_loss: 0.0243 - val_accuracy: 0.9924\n",
      "Epoch 12/30\n",
      "439/439 - 8s - loss: 0.0547 - accuracy: 0.9841 - val_loss: 0.0252 - val_accuracy: 0.9921\n",
      "Epoch 13/30\n",
      "439/439 - 8s - loss: 0.0564 - accuracy: 0.9838 - val_loss: 0.0253 - val_accuracy: 0.9924\n",
      "\n",
      "Epoch 00013: ReduceLROnPlateau reducing learning rate to 0.0002500000118743628.\n",
      "Epoch 14/30\n",
      "439/439 - 9s - loss: 0.0484 - accuracy: 0.9859 - val_loss: 0.0266 - val_accuracy: 0.9929\n",
      "Epoch 15/30\n",
      "439/439 - 8s - loss: 0.0507 - accuracy: 0.9848 - val_loss: 0.0228 - val_accuracy: 0.9943\n",
      "Epoch 16/30\n",
      "439/439 - 8s - loss: 0.0482 - accuracy: 0.9857 - val_loss: 0.0258 - val_accuracy: 0.9924\n",
      "Epoch 17/30\n",
      "439/439 - 8s - loss: 0.0467 - accuracy: 0.9864 - val_loss: 0.0264 - val_accuracy: 0.9929\n",
      "Epoch 18/30\n",
      "439/439 - 8s - loss: 0.0489 - accuracy: 0.9852 - val_loss: 0.0229 - val_accuracy: 0.9933\n",
      "\n",
      "Epoch 00018: ReduceLROnPlateau reducing learning rate to 0.0001250000059371814.\n",
      "Epoch 19/30\n",
      "439/439 - 8s - loss: 0.0458 - accuracy: 0.9867 - val_loss: 0.0231 - val_accuracy: 0.9936\n",
      "Epoch 20/30\n",
      "439/439 - 8s - loss: 0.0422 - accuracy: 0.9880 - val_loss: 0.0239 - val_accuracy: 0.9938\n",
      "Epoch 21/30\n",
      "439/439 - 8s - loss: 0.0455 - accuracy: 0.9868 - val_loss: 0.0226 - val_accuracy: 0.9933\n",
      "\n",
      "Epoch 00021: ReduceLROnPlateau reducing learning rate to 6.25000029685907e-05.\n",
      "Epoch 22/30\n",
      "439/439 - 8s - loss: 0.0449 - accuracy: 0.9870 - val_loss: 0.0235 - val_accuracy: 0.9929\n",
      "Epoch 23/30\n",
      "439/439 - 8s - loss: 0.0444 - accuracy: 0.9867 - val_loss: 0.0230 - val_accuracy: 0.9929\n",
      "Epoch 24/30\n",
      "439/439 - 8s - loss: 0.0450 - accuracy: 0.9864 - val_loss: 0.0233 - val_accuracy: 0.9933\n",
      "\n",
      "Epoch 00024: ReduceLROnPlateau reducing learning rate to 3.125000148429535e-05.\n",
      "Epoch 25/30\n",
      "439/439 - 8s - loss: 0.0431 - accuracy: 0.9872 - val_loss: 0.0228 - val_accuracy: 0.9931\n",
      "Epoch 26/30\n",
      "439/439 - 8s - loss: 0.0424 - accuracy: 0.9875 - val_loss: 0.0232 - val_accuracy: 0.9933\n",
      "Epoch 27/30\n",
      "439/439 - 8s - loss: 0.0418 - accuracy: 0.9871 - val_loss: 0.0230 - val_accuracy: 0.9931\n",
      "\n",
      "Epoch 00027: ReduceLROnPlateau reducing learning rate to 1.5625000742147677e-05.\n",
      "Epoch 28/30\n",
      "439/439 - 8s - loss: 0.0431 - accuracy: 0.9875 - val_loss: 0.0231 - val_accuracy: 0.9931\n",
      "Epoch 29/30\n",
      "439/439 - 8s - loss: 0.0428 - accuracy: 0.9874 - val_loss: 0.0229 - val_accuracy: 0.9929\n",
      "Epoch 30/30\n",
      "439/439 - 9s - loss: 0.0418 - accuracy: 0.9875 - val_loss: 0.0227 - val_accuracy: 0.9938\n",
      "\n",
      "Epoch 00030: ReduceLROnPlateau reducing learning rate to 1e-05.\n"
     ]
    }
   ],
   "source": [
    "epochs = 30\n",
    "batch_size = 86\n",
    "\n",
    "history = model.fit_generator(DataGen.flow(X_train, Y_train, batch_size=batch_size), \n",
    "                              epochs=epochs, validation_data=(X_vali,Y_vali),\n",
    "                    verbose=2, steps_per_epoch=X_train.shape[0] // batch_size, callbacks=[LR_reduction])"
   ]
  },
  {
   "cell_type": "markdown",
   "metadata": {},
   "source": [
    "## 7. 模型评估(Model Evaluation)"
   ]
  },
  {
   "cell_type": "markdown",
   "metadata": {},
   "source": [
    "### 7.1 训练和验证曲线(Training and Validation Curves)"
   ]
  },
  {
   "cell_type": "code",
   "execution_count": 18,
   "metadata": {},
   "outputs": [
    {
     "data": {
      "image/png": "[encoded data removed]",
      "text/plain": [
       "<Figure size 576x432 with 2 Axes>"
      ]
     },
     "metadata": {
      "needs_background": "light"
     },
     "output_type": "display_data"
    }
   ],
   "source": [
    "fig,ax=plt.subplots(nrows=2,ncols=1,figsize=(8,6))\n",
    "ax[0].plot(history.history['loss'], color='b', label=\"Training loss\")\n",
    "ax[0].plot(history.history['val_loss'], color='r', label=\"validation loss\", axes=ax[0])\n",
    "legend = ax[0].legend(loc='best', shadow=True)\n",
    "                      \n",
    "ax[1].plot(history.history['accuracy'], color='b', label=\"Training accuracy\")\n",
    "ax[1].plot(history.history['val_accuracy'], color='r', label=\"Validation accuracy\")\n",
    "legend = ax[1].legend(loc='best', shadow=True)"
   ]
  },
  {
   "cell_type": "markdown",
   "metadata": {},
   "source": [
    "由图可以看出，Training accuracy始终低于Validation accuracy，证明模型没有过拟合。\n",
    "\n",
    "According to the figure, Training accuracy is always lower than Validation accuracy, which means the model does not overfit."
   ]
  },
  {
   "cell_type": "markdown",
   "metadata": {},
   "source": [
    "### 7.2 混淆矩阵(Confusion Matrix)"
   ]
  },
  {
   "cell_type": "code",
   "execution_count": 19,
   "metadata": {},
   "outputs": [],
   "source": [
    "def plot_confusion_matrix(cm, classes, normalize=False, title='Confusion matrix', cmap=plt.cm.Blues):\n",
    "    if normalize:\n",
    "        cm=cm.astype(float)/cm.sum(axis=1)[:, np.newaxis]\n",
    "\n",
    "    plt.imshow(cm,interpolation='nearest',cmap=cmap)\n",
    "    plt.title(title)\n",
    "    plt.colorbar()\n",
    "    tick_marks =np.arange(len(classes))\n",
    "    plt.xticks(tick_marks, classes)\n",
    "    plt.yticks(tick_marks, classes)\n",
    "\n",
    "    fmt ='.2f' if normalize else 'd'\n",
    "    thresh=cm.max() / 2.\n",
    "    for i, j in itertools.product (range(cm.shape[0]), range(cm.shape[1])):\n",
    "        plt.text(j,i,format(cm[i, j], fmt), horizontalalignment=\"center\",\n",
    "        color=\"white\" if cm[i, j] > thresh else \"black\")\n",
    "\n",
    "    plt.ylabel('True label')\n",
    "    plt.xlabel('Predicted label')"
   ]
  },
  {
   "cell_type": "code",
   "execution_count": 20,
   "metadata": {},
   "outputs": [
    {
     "data": {
      "image/png": "[encoded data removed]",
      "text/plain": [
       "<Figure size 1152x432 with 4 Axes>"
      ]
     },
     "metadata": {
      "needs_background": "light"
     },
     "output_type": "display_data"
    }
   ],
   "source": [
    "Y_pred = model.predict(X_vali)\n",
    "Y_pred_classes = np.argmax(Y_pred, axis=1)\n",
    "Y_true = np.argmax(Y_vali, axis=1)\n",
    "confusion_mtx = confusion_matrix(Y_true, Y_pred_classes)\n",
    "\n",
    "plt.figure(figsize=(16,6))\n",
    "plt.subplot(121)\n",
    "plot_confusion_matrix(confusion_mtx, classes=range(10))\n",
    "plt.subplot(122)\n",
    "plot_confusion_matrix(confusion_mtx, classes=range(10), normalize=True)"
   ]
  },
  {
   "cell_type": "markdown",
   "metadata": {},
   "source": [
    "可看到有一些错误预测结果。我们需要调查一下错误。\n",
    "\n",
    "We can see there are some wrong predictions. We need to investigate these errors."
   ]
  },
  {
   "cell_type": "code",
   "execution_count": 21,
   "metadata": {},
   "outputs": [],
   "source": [
    "errors = (Y_pred_classes - Y_true != 0)\n",
    "Y_pred_classes_errors = Y_pred_classes[errors]\n",
    "Y_pred_errors = Y_pred[errors]\n",
    "X_vali_errors = X_vali[errors]\n",
    "Y_true_errors = Y_true[errors]\n"
   ]
  },
  {
   "cell_type": "code",
   "execution_count": 22,
   "metadata": {},
   "outputs": [],
   "source": [
    "Y_pred_errors_prob = np.max(Y_pred_errors, axis=1)"
   ]
  },
  {
   "cell_type": "code",
   "execution_count": 34,
   "metadata": {},
   "outputs": [
    {
     "name": "stdout",
     "output_type": "stream",
     "text": [
      "[2.5900480e-01 4.9574830e-04 2.9223543e-01 4.0262178e-01 2.4880488e-01\n",
      " 4.1695511e-01 3.1063999e-05 1.4347437e-01 4.9009278e-02 3.3289030e-02\n",
      " 1.7766330e-02 5.1348459e-02 1.6553892e-04 8.4618844e-02 1.8172869e-01\n",
      " 2.2840527e-01 4.4929257e-01 4.0803898e-02 3.5195187e-01 3.6169733e-03\n",
      " 2.8905049e-01 7.5490559e-03 9.9577501e-02 1.5857498e-01 7.6043489e-03\n",
      " 9.1773935e-02]\n"
     ]
    }
   ],
   "source": [
    "true_prob = [0.0]*len(Y_true_errors)\n",
    "for i in range(Y_pred_errors.shape[0]):\n",
    "    true_prob[i] = Y_pred_errors[i][Y_true_errors[i]]\n",
    "true_prob = np.array(true_prob)\n",
    "print(true_prob)"
   ]
  },
  {
   "cell_type": "code",
   "execution_count": 35,
   "metadata": {},
   "outputs": [],
   "source": [
    "def display_errors(errors_index, img_errors, pred_errors, obs_errors):\n",
    "    n = 0\n",
    "    nrows =2\n",
    "    ncols =3\n",
    "    fig, ax = plt.subplots(nrows, ncols,figsize=(12,8), sharex=True, sharey=True)\n",
    "    for row in range(nrows):\n",
    "        for col in range(ncols):\n",
    "            error = errors_index[n]\n",
    "            ax[row, col].imshow((img_errors[error]).reshape((28, 28)), cmap='gray')\n",
    "            ax[row, col].set_title(\"Predicted label : {}\\nTrue label : {}\".format(pred_errors[error], obs_errors[error]))\n",
    "            n += 1"
   ]
  },
  {
   "cell_type": "code",
   "execution_count": 36,
   "metadata": {},
   "outputs": [
    {
     "name": "stdout",
     "output_type": "stream",
     "text": [
      "Number of errors:26\n",
      "The probability difference between predicted label and true label:[0.99958205 0.9989753  0.99276596 0.9216429  0.89422494 0.8917518\n",
      " 0.8082568  0.8008446  0.78017086 0.74593633 0.71296966 0.67718923\n",
      " 0.6155322  0.5678672  0.54075307 0.48199037 0.47301722 0.41552216\n",
      " 0.40352294 0.399581   0.37773582 0.3744749  0.29485628 0.19404921\n",
      " 0.11358303 0.04275274] \n"
     ]
    },
    {
     "data": {
      "image/png": "[encoded data removed]",
      "text/plain": [
       "<Figure size 864x576 with 6 Axes>"
      ]
     },
     "metadata": {
      "needs_background": "light"
     },
     "output_type": "display_data"
    }
   ],
   "source": [
    "difference = Y_pred_errors_prob - true_prob\n",
    "sorted_difference = np.argsort(-difference)\n",
    "\n",
    "most_error = sorted_difference[:6]\n",
    "print('Number of errors:{}\\nThe probability difference between predicted label and true label:{} '.format(len(Y_pred_errors),\n",
    "                                                                                             difference[sorted_difference]))\n",
    "display_errors(most_error, X_vali_errors, Y_pred_classes_errors, Y_true_errors)"
   ]
  },
  {
   "cell_type": "markdown",
   "metadata": {},
   "source": [
    "As the figure shown above, these mistakes are not surprising. Among them even normal human beings can't recognize accurately. So these errors are acceptable. "
   ]
  },
  {
   "cell_type": "markdown",
   "metadata": {},
   "source": [
    "## 8. 预测和提交结果(Test and Submit the Results)"
   ]
  },
  {
   "cell_type": "code",
   "execution_count": 37,
   "metadata": {},
   "outputs": [],
   "source": [
    "results = model.predict(test)\n",
    "results = np.argmax(results, axis=1)\n",
    "results = pd.Series(results, name='Label')\n",
    "\n"
   ]
  },
  {
   "cell_type": "code",
   "execution_count": 38,
   "metadata": {},
   "outputs": [],
   "source": [
    "results = pd.DataFrame(results)\n",
    "results = results.reset_index(drop=False) \n",
    "results.rename(columns={'index': 'ImageID'}, inplace=True)  \n",
    "results['ImageID'] = results['ImageID'] + 1\n"
   ]
  },
  {
   "cell_type": "code",
   "execution_count": 39,
   "metadata": {},
   "outputs": [],
   "source": [
    "results.to_csv(\"cnn_mnist.csv\",index=False)"
   ]
  },
  {
   "cell_type": "markdown",
   "metadata": {},
   "source": [
    "## Some Notes\n",
    "\n",
    "#### Q1：过程梳理，该模型或分析过程是否能拓展到其他问题的解决？\n",
    "step1：相关包导入和数据导入  \n",
    "step2: 针对数据类型，进行预处理（缺失值处理，归一化等）  \n",
    "step3: 划分训练集和验证集（两个集的比例）  \n",
    "step4: 设计神经网络模型（如何设计，参数设置等）  \n",
    "step5: 设置优化器和回调函数（选用那种，参数设置等）  \n",
    "step6: 数据增强，防止过拟合  \n",
    "step7: 模型拟合并评估（画图——可视化，更直观）  \n",
    "\n",
    "\n"
   ]
  },
  {
   "cell_type": "markdown",
   "metadata": {},
   "source": [
    "#### Q2: 如何得出该架构的CNN？关于各层的排列和选用（卷积层，池化层，全连接层以及激活函数等的选用--效果最好？）\n",
    "1. 理解任务需求：  \n",
    "首先，您需要深入了解任务的具体需求，例如图像分类、目标检测、语义分割等。  \n",
    "分析输入数据的特性，如图像的大小、颜色通道数、分辨率等。  \n",
    "确定任务的输出需求，如分类的类别数、目标检测的定位精度等。\n",
    "\n",
    "2. 选择合适的基准模型：\n",
    "根据任务需求，选择一个或多个现有的基准模型作为起点。  \n",
    "考虑使用经典的CNN架构（如LeNet、AlexNet、VGG等）或更现代的架构（如ResNet、Inception、EfficientNet等）。\n",
    "\n",
    "3. 调整网络深度：\n",
    "增加网络深度（即添加更多层）通常可以提高模型的表示能力，但也可能导致过拟合和计算成本增加。  \n",
    "通过逐渐增加或减少层数，观察模型性能的变化，找到最佳的网络深度。\n",
    "\n",
    "4. 调整卷积核大小和数量：\n",
    "卷积核的大小和数量影响模型的感受野和特征提取能力。  \n",
    "尝试使用不同大小的卷积核（如3x3、5x5等）和不同的卷积核数量，观察模型性能的变化。\n",
    "\n",
    "5. 优化池化操作：\n",
    "池化操作有助于减少特征图的尺寸和计算量，同时保留重要信息。    \n",
    "尝试使用不同类型的池化操作（如最大池化、平均池化等），并调整池化窗口的大小和步长。\n",
    "\n",
    "6. 使用正则化和优化技术：\n",
    "引入正则化技术（如Dropout、Batch Normalization等）以减少过拟合。  \n",
    "选择合适的优化算法（如SGD、Adam等）和学习率调整策略。\n",
    "\n",
    "7. 进行超参数调优：\n",
    "超参数（如学习率、批次大小、迭代次数等）对模型性能有很大影响。  \n",
    "使用网格搜索、随机搜索或贝叶斯优化等方法进行超参数调优。\n",
    "\n",
    "8. 实验验证与性能评估：\n",
    "使用验证集对模型性能进行实时评估，以便在训练过程中调整架构和参数。  \n",
    "使用测试集对最终模型进行性能评估，确保模型具有良好的泛化能力。\n",
    "\n",
    "9. 参考现有研究：\n",
    "查阅相关领域的最新研究，了解其他研究者是如何解决类似任务的。  \n",
    "借鉴他们的网络设计思路和技巧，作为自己设计的参考。\n",
    "\n",
    "\n",
    "该任务中沿用了经典的LeNet架构。中间穿插dropout避免过拟合。使用Relu作为激活函数，因其稀疏性、计算效率、缓解梯度消失问题以及适应性。\n",
    "  \n",
    "filters数量可能因任务、数据集和模型架构的不同而有所变化，首先，考虑你的任务复杂性。对于更复杂的任务，如图像分类或目标检测，可能需要更多的滤波器来捕获丰富的特征。而对于相对简单的任务，可能较少的滤波器就足够了。  \n",
    "\n",
    "数据集的大小也是一个重要因素。如果你有一个非常大的数据集，那么模型有更多的机会从数据中学习到有用的特征，因此可以增加滤波器的数量。相反，如果数据集较小，过多的滤波器可能会导致过拟合。\n",
    "\n",
    "滤波器的数量也会直接影响模型的计算复杂性和训练时间。更多的滤波器意味着更多的参数需要优化，这可能需要更多的计算资源。因此，在确定滤波器数量时，也要考虑你的计算资源和时间限制。  \n",
    "\n",
    "可以使用超参数搜索方法（如网格搜索、随机搜索或贝叶斯优化）来自动寻找最佳的滤波器数量。这些方法可以帮助你在一定的范围内自动调整滤波器的数量，并找到使模型性能最优的参数。\n",
    "\n",
    "池化层的参数同理，通过尝试不同的值并观察模型的表现来进行调整。\n",
    "\n",
    "\n",
    "Flatten层用于将多维的输入一维化，即将输入“压平”。  \n",
    "\n",
    "第一个Dense层（带有ReLU激活函数）：  \n",
    "这是一个全连接层，它有1000个神经元（或称为单元）。全连接层中的每个神经元都与前一层的所有神经元连接。这里使用的激活函数是ReLU（Rectified Linear Unit），它如之前所述，能够增加模型的非线性，同时有助于缓解梯度消失问题。这一层的主要作用是进一步从输入数据中提取和组合特征，以便后续的层可以更好地进行分类。  \n",
    "\n",
    "第二个Dense层（带有Softmax激活函数）：  \n",
    "这是输出层，它有10个神经元，对应于10个不同的手写数字类别（0到9）。这里使用的激活函数是Softmax，它将每个神经元的输出转换为一个概率分布，使得所有神经元的输出概率之和为1。Softmax常用于多分类问题中。这样，模型可以为每个输入图像预测一个属于某个数字类别的概率。在训练过程中，模型会学习如何调整权重，以便为正确的数字类别输出较高的概率。"
   ]
  },
  {
   "cell_type": "markdown",
   "metadata": {},
   "source": [
    "#### Q3：关于一些参数，如何得出最佳/较好的参数？其中包括：拟合的batch size, epoch, 回调的factor, patience, verbose, min_lr，优化器的lr, rho, epsilon, decay，网络的filters，padding，kernel size，pool size，全连接层的展开层数等。\n",
    "\n",
    "对于学习率，通常在0.1，0.01，0.001......等中尝试调整，过高难收敛到最佳，过低则需要更长的训练时间。 \n",
    " \n",
    "batch size设置的不能太大也不能太小：  \n",
    "1）batch数太小，而类别又比较多的时候，真的可能会导致loss函数震荡而不收敛，尤其是在你的网络比较复杂的时候。  \n",
    "2）随着batch size增大，处理相同的数据量的速度越快。  \n",
    "3）随着batch size增大，达到相同精度所需要的epoch数量越来越多。  \n",
    "4）由于上述两种因素的矛盾， Batch_Size 增大到某个时候，达到时间上的最优。  \n",
    "5）由于最终收敛精度会陷入不同的局部极值，因此 Batch_Size 增大到某些时候，达到最终收敛精度上的最优。  \n",
    "6）过大的batch size的结果是网络很容易收敛到一些不好的局部最优点。同样太小的batch也存在一些问题，比如训练速度很慢，训练不容易收敛等。  \n",
    "7）具体的batch size的选取和训练集的样本数目相关。  \n",
    "\n",
    "\n",
    "全连接层的神经元个数是一个迭代和调整的过程。您可能需要根据模型的性能、训练时间、计算资源等多个因素进行权衡和调整。同时，与其他超参数（如学习率、批处理大小等）一样，神经元数量的选择也是任务特定和数据集特定的。  \n",
    "\n",
    "其他参数同理，根据模型的性能、训练时间、计算资源等多个因素进行权衡和调整，通过不断实验得出较佳的目标参数值\n",
    "\n"
   ]
  }
 ],
 "metadata": {
  "kernelspec": {
   "display_name": "base",
   "language": "python",
   "name": "python3"
  },
  "language_info": {
   "codemirror_mode": {
    "name": "ipython",
    "version": 3
   },
   "file_extension": ".py",
   "mimetype": "text/x-python",
   "name": "python",
   "nbconvert_exporter": "python",
   "pygments_lexer": "ipython3",
   "version": "3.9.7"
  }
 },
 "nbformat": 4,
 "nbformat_minor": 2
}
